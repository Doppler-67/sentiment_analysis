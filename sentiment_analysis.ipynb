{
  "nbformat": 4,
  "nbformat_minor": 0,
  "metadata": {
    "colab": {
      "provenance": [],
      "collapsed_sections": [
        "16copzeMDjxG",
        "zvtA1keIDqnf",
        "4s5p9B7jGmo_",
        "soajz1f4YHoc"
      ],
      "mount_file_id": "13xrSe6Iyrz34LQi3UXo6e32wjblAuj5Z",
      "authorship_tag": "ABX9TyPPDiqy7TdF8vsKrjF05am5",
      "include_colab_link": true
    },
    "kernelspec": {
      "name": "python3",
      "display_name": "Python 3"
    },
    "language_info": {
      "name": "python"
    },
    "gpuClass": "standard",
    "accelerator": "TPU"
  },
  "cells": [
    {
      "cell_type": "markdown",
      "metadata": {
        "id": "view-in-github",
        "colab_type": "text"
      },
      "source": [
        "<a href=\"https://colab.research.google.com/github/Doppler-67/sentiment_analysis/blob/main/sentiment_analysis.ipynb\" target=\"_parent\"><img src=\"https://colab.research.google.com/assets/colab-badge.svg\" alt=\"Open In Colab\"/></a>"
      ]
    },
    {
      "cell_type": "markdown",
      "source": [
        "**Цель проекта:**\n",
        "\n",
        "Нужно построить модель, которая будет определять токсичность текста.\n",
        "\n",
        "**Описание данных:**\n",
        "\n",
        "В качестве данных был взят корпус русскоязычных твитов RuTweetCorp.\n",
        "\n",
        "⭕ Более подробная информация находится в README файле."
      ],
      "metadata": {
        "id": "TSydi6IYd9XQ"
      }
    },
    {
      "cell_type": "markdown",
      "source": [
        "# **Importing libraries**"
      ],
      "metadata": {
        "id": "16copzeMDjxG"
      }
    },
    {
      "cell_type": "code",
      "execution_count": 1,
      "metadata": {
        "id": "s6asf-UbvWBw"
      },
      "outputs": [],
      "source": [
        "import numpy as np\n",
        "import pandas as pd\n",
        "import torch\n",
        "import seaborn as sns\n",
        "import nltk\n",
        "import re\n",
        "import transformers\n",
        "import matplotlib.pyplot as plt\n",
        "\n",
        "from tqdm import notebook\n",
        "\n",
        "from sklearn.linear_model import LogisticRegression\n",
        "from sklearn.model_selection import train_test_split, cross_val_score, GridSearchCV\n",
        "from sklearn.metrics import roc_curve, auc, roc_auc_score\n",
        "from sklearn.feature_extraction.text import TfidfVectorizer\n",
        "\n",
        "from nltk.corpus import stopwords\n",
        "from nltk.stem import WordNetLemmatizer\n",
        "\n",
        "from pymystem3 import Mystem "
      ]
    },
    {
      "cell_type": "code",
      "source": [
        "import warnings\n",
        "warnings.filterwarnings(\"ignore\")"
      ],
      "metadata": {
        "id": "hf8Zclc9D-b8"
      },
      "execution_count": 2,
      "outputs": []
    },
    {
      "cell_type": "code",
      "source": [
        "sns.set()"
      ],
      "metadata": {
        "id": "K88ewRHR7kR2"
      },
      "execution_count": 3,
      "outputs": []
    },
    {
      "cell_type": "markdown",
      "source": [
        "# **Data understanding**"
      ],
      "metadata": {
        "id": "zvtA1keIDqnf"
      }
    },
    {
      "cell_type": "code",
      "source": [
        "col_names = ['id', 'tdate', 'tmane', 'text', 'toxic', 'trep', 'trtw', 'tfav', 'tstcount', 'tfol', 'tfrien', 'listcount']"
      ],
      "metadata": {
        "id": "pDkCjyGJ577a"
      },
      "execution_count": 4,
      "outputs": []
    },
    {
      "cell_type": "code",
      "source": [
        "pos_data = pd.read_csv('/content/drive/MyDrive/sentiment_analysis/positive.csv', sep=';', header=None, names=col_names)\n",
        "neg_data = pd.read_csv('/content/drive/MyDrive/sentiment_analysis/negative.csv', sep=';', header=None, names=col_names)"
      ],
      "metadata": {
        "id": "0sFfobO12a-2"
      },
      "execution_count": 5,
      "outputs": []
    },
    {
      "cell_type": "code",
      "source": [
        "pos_data.head()"
      ],
      "metadata": {
        "id": "BR2Wffbb20ih",
        "colab": {
          "base_uri": "https://localhost:8080/",
          "height": 0
        },
        "outputId": "a1a16d4d-f624-4d3d-f660-73cfb16ff760"
      },
      "execution_count": 6,
      "outputs": [
        {
          "output_type": "execute_result",
          "data": {
            "text/plain": [
              "                   id       tdate            tmane  \\\n",
              "0  408906692374446080  1386325927  pleease_shut_up   \n",
              "1  408906692693221377  1386325927  alinakirpicheva   \n",
              "2  408906695083954177  1386325927        EvgeshaRe   \n",
              "3  408906695356973056  1386325927    ikonnikova_21   \n",
              "4  408906761416867842  1386325943        JumpyAlex   \n",
              "\n",
              "                                                text  toxic  trep  trtw  tfav  \\\n",
              "0  @first_timee хоть я и школота, но поверь, у на...      1     0     0     0   \n",
              "1  Да, все-таки он немного похож на него. Но мой ...      1     0     0     0   \n",
              "2  RT @KatiaCheh: Ну ты идиотка) я испугалась за ...      1     0     1     0   \n",
              "3  RT @digger2912: \"Кто то в углу сидит и погибае...      1     0     1     0   \n",
              "4  @irina_dyshkant Вот что значит страшилка :D\\nН...      1     0     0     0   \n",
              "\n",
              "   tstcount  tfol  tfrien  listcount  \n",
              "0      7569    62      61          0  \n",
              "1     11825    59      31          2  \n",
              "2      1273    26      27          0  \n",
              "3      1549    19      17          0  \n",
              "4       597    16      23          1  "
            ],
            "text/html": [
              "\n",
              "  <div id=\"df-fd79fda9-c10f-4df3-a7b3-29f62c8b97ee\">\n",
              "    <div class=\"colab-df-container\">\n",
              "      <div>\n",
              "<style scoped>\n",
              "    .dataframe tbody tr th:only-of-type {\n",
              "        vertical-align: middle;\n",
              "    }\n",
              "\n",
              "    .dataframe tbody tr th {\n",
              "        vertical-align: top;\n",
              "    }\n",
              "\n",
              "    .dataframe thead th {\n",
              "        text-align: right;\n",
              "    }\n",
              "</style>\n",
              "<table border=\"1\" class=\"dataframe\">\n",
              "  <thead>\n",
              "    <tr style=\"text-align: right;\">\n",
              "      <th></th>\n",
              "      <th>id</th>\n",
              "      <th>tdate</th>\n",
              "      <th>tmane</th>\n",
              "      <th>text</th>\n",
              "      <th>toxic</th>\n",
              "      <th>trep</th>\n",
              "      <th>trtw</th>\n",
              "      <th>tfav</th>\n",
              "      <th>tstcount</th>\n",
              "      <th>tfol</th>\n",
              "      <th>tfrien</th>\n",
              "      <th>listcount</th>\n",
              "    </tr>\n",
              "  </thead>\n",
              "  <tbody>\n",
              "    <tr>\n",
              "      <th>0</th>\n",
              "      <td>408906692374446080</td>\n",
              "      <td>1386325927</td>\n",
              "      <td>pleease_shut_up</td>\n",
              "      <td>@first_timee хоть я и школота, но поверь, у на...</td>\n",
              "      <td>1</td>\n",
              "      <td>0</td>\n",
              "      <td>0</td>\n",
              "      <td>0</td>\n",
              "      <td>7569</td>\n",
              "      <td>62</td>\n",
              "      <td>61</td>\n",
              "      <td>0</td>\n",
              "    </tr>\n",
              "    <tr>\n",
              "      <th>1</th>\n",
              "      <td>408906692693221377</td>\n",
              "      <td>1386325927</td>\n",
              "      <td>alinakirpicheva</td>\n",
              "      <td>Да, все-таки он немного похож на него. Но мой ...</td>\n",
              "      <td>1</td>\n",
              "      <td>0</td>\n",
              "      <td>0</td>\n",
              "      <td>0</td>\n",
              "      <td>11825</td>\n",
              "      <td>59</td>\n",
              "      <td>31</td>\n",
              "      <td>2</td>\n",
              "    </tr>\n",
              "    <tr>\n",
              "      <th>2</th>\n",
              "      <td>408906695083954177</td>\n",
              "      <td>1386325927</td>\n",
              "      <td>EvgeshaRe</td>\n",
              "      <td>RT @KatiaCheh: Ну ты идиотка) я испугалась за ...</td>\n",
              "      <td>1</td>\n",
              "      <td>0</td>\n",
              "      <td>1</td>\n",
              "      <td>0</td>\n",
              "      <td>1273</td>\n",
              "      <td>26</td>\n",
              "      <td>27</td>\n",
              "      <td>0</td>\n",
              "    </tr>\n",
              "    <tr>\n",
              "      <th>3</th>\n",
              "      <td>408906695356973056</td>\n",
              "      <td>1386325927</td>\n",
              "      <td>ikonnikova_21</td>\n",
              "      <td>RT @digger2912: \"Кто то в углу сидит и погибае...</td>\n",
              "      <td>1</td>\n",
              "      <td>0</td>\n",
              "      <td>1</td>\n",
              "      <td>0</td>\n",
              "      <td>1549</td>\n",
              "      <td>19</td>\n",
              "      <td>17</td>\n",
              "      <td>0</td>\n",
              "    </tr>\n",
              "    <tr>\n",
              "      <th>4</th>\n",
              "      <td>408906761416867842</td>\n",
              "      <td>1386325943</td>\n",
              "      <td>JumpyAlex</td>\n",
              "      <td>@irina_dyshkant Вот что значит страшилка :D\\nН...</td>\n",
              "      <td>1</td>\n",
              "      <td>0</td>\n",
              "      <td>0</td>\n",
              "      <td>0</td>\n",
              "      <td>597</td>\n",
              "      <td>16</td>\n",
              "      <td>23</td>\n",
              "      <td>1</td>\n",
              "    </tr>\n",
              "  </tbody>\n",
              "</table>\n",
              "</div>\n",
              "      <button class=\"colab-df-convert\" onclick=\"convertToInteractive('df-fd79fda9-c10f-4df3-a7b3-29f62c8b97ee')\"\n",
              "              title=\"Convert this dataframe to an interactive table.\"\n",
              "              style=\"display:none;\">\n",
              "        \n",
              "  <svg xmlns=\"http://www.w3.org/2000/svg\" height=\"24px\"viewBox=\"0 0 24 24\"\n",
              "       width=\"24px\">\n",
              "    <path d=\"M0 0h24v24H0V0z\" fill=\"none\"/>\n",
              "    <path d=\"M18.56 5.44l.94 2.06.94-2.06 2.06-.94-2.06-.94-.94-2.06-.94 2.06-2.06.94zm-11 1L8.5 8.5l.94-2.06 2.06-.94-2.06-.94L8.5 2.5l-.94 2.06-2.06.94zm10 10l.94 2.06.94-2.06 2.06-.94-2.06-.94-.94-2.06-.94 2.06-2.06.94z\"/><path d=\"M17.41 7.96l-1.37-1.37c-.4-.4-.92-.59-1.43-.59-.52 0-1.04.2-1.43.59L10.3 9.45l-7.72 7.72c-.78.78-.78 2.05 0 2.83L4 21.41c.39.39.9.59 1.41.59.51 0 1.02-.2 1.41-.59l7.78-7.78 2.81-2.81c.8-.78.8-2.07 0-2.86zM5.41 20L4 18.59l7.72-7.72 1.47 1.35L5.41 20z\"/>\n",
              "  </svg>\n",
              "      </button>\n",
              "      \n",
              "  <style>\n",
              "    .colab-df-container {\n",
              "      display:flex;\n",
              "      flex-wrap:wrap;\n",
              "      gap: 12px;\n",
              "    }\n",
              "\n",
              "    .colab-df-convert {\n",
              "      background-color: #E8F0FE;\n",
              "      border: none;\n",
              "      border-radius: 50%;\n",
              "      cursor: pointer;\n",
              "      display: none;\n",
              "      fill: #1967D2;\n",
              "      height: 32px;\n",
              "      padding: 0 0 0 0;\n",
              "      width: 32px;\n",
              "    }\n",
              "\n",
              "    .colab-df-convert:hover {\n",
              "      background-color: #E2EBFA;\n",
              "      box-shadow: 0px 1px 2px rgba(60, 64, 67, 0.3), 0px 1px 3px 1px rgba(60, 64, 67, 0.15);\n",
              "      fill: #174EA6;\n",
              "    }\n",
              "\n",
              "    [theme=dark] .colab-df-convert {\n",
              "      background-color: #3B4455;\n",
              "      fill: #D2E3FC;\n",
              "    }\n",
              "\n",
              "    [theme=dark] .colab-df-convert:hover {\n",
              "      background-color: #434B5C;\n",
              "      box-shadow: 0px 1px 3px 1px rgba(0, 0, 0, 0.15);\n",
              "      filter: drop-shadow(0px 1px 2px rgba(0, 0, 0, 0.3));\n",
              "      fill: #FFFFFF;\n",
              "    }\n",
              "  </style>\n",
              "\n",
              "      <script>\n",
              "        const buttonEl =\n",
              "          document.querySelector('#df-fd79fda9-c10f-4df3-a7b3-29f62c8b97ee button.colab-df-convert');\n",
              "        buttonEl.style.display =\n",
              "          google.colab.kernel.accessAllowed ? 'block' : 'none';\n",
              "\n",
              "        async function convertToInteractive(key) {\n",
              "          const element = document.querySelector('#df-fd79fda9-c10f-4df3-a7b3-29f62c8b97ee');\n",
              "          const dataTable =\n",
              "            await google.colab.kernel.invokeFunction('convertToInteractive',\n",
              "                                                     [key], {});\n",
              "          if (!dataTable) return;\n",
              "\n",
              "          const docLinkHtml = 'Like what you see? Visit the ' +\n",
              "            '<a target=\"_blank\" href=https://colab.research.google.com/notebooks/data_table.ipynb>data table notebook</a>'\n",
              "            + ' to learn more about interactive tables.';\n",
              "          element.innerHTML = '';\n",
              "          dataTable['output_type'] = 'display_data';\n",
              "          await google.colab.output.renderOutput(dataTable, element);\n",
              "          const docLink = document.createElement('div');\n",
              "          docLink.innerHTML = docLinkHtml;\n",
              "          element.appendChild(docLink);\n",
              "        }\n",
              "      </script>\n",
              "    </div>\n",
              "  </div>\n",
              "  "
            ]
          },
          "metadata": {},
          "execution_count": 6
        }
      ]
    },
    {
      "cell_type": "code",
      "source": [
        "neg_data.head()"
      ],
      "metadata": {
        "id": "2cMK0gOT3D40",
        "colab": {
          "base_uri": "https://localhost:8080/",
          "height": 0
        },
        "outputId": "8b7732c7-0a93-467d-b3ca-1367903e6adc"
      },
      "execution_count": 7,
      "outputs": [
        {
          "output_type": "execute_result",
          "data": {
            "text/plain": [
              "                   id       tdate            tmane  \\\n",
              "0  408906762813579264  1386325944  dugarchikbellko   \n",
              "1  408906818262687744  1386325957     nugemycejela   \n",
              "2  408906858515398656  1386325966          4post21   \n",
              "3  408906914437685248  1386325980         Poliwake   \n",
              "4  408906914723295232  1386325980       capyvixowe   \n",
              "\n",
              "                                                text  toxic  trep  trtw  tfav  \\\n",
              "0  на работе был полный пиддес :| и так каждое за...     -1     0     0     0   \n",
              "1  Коллеги сидят рубятся в Urban terror, а я из-з...     -1     0     0     0   \n",
              "2  @elina_4post как говорят обещаного три года жд...     -1     0     0     0   \n",
              "3  Желаю хорошего полёта и удачной посадки,я буду...     -1     0     0     0   \n",
              "4  Обновил за каким-то лешим surf, теперь не рабо...     -1     0     0     0   \n",
              "\n",
              "   tstcount  tfol  tfrien  listcount  \n",
              "0      8064   111      94          2  \n",
              "1        26    42      39          0  \n",
              "2       718    49     249          0  \n",
              "3     10628   207     200          0  \n",
              "4        35    17      34          0  "
            ],
            "text/html": [
              "\n",
              "  <div id=\"df-ca33bff9-b84f-467a-84b7-d20af6a61ba3\">\n",
              "    <div class=\"colab-df-container\">\n",
              "      <div>\n",
              "<style scoped>\n",
              "    .dataframe tbody tr th:only-of-type {\n",
              "        vertical-align: middle;\n",
              "    }\n",
              "\n",
              "    .dataframe tbody tr th {\n",
              "        vertical-align: top;\n",
              "    }\n",
              "\n",
              "    .dataframe thead th {\n",
              "        text-align: right;\n",
              "    }\n",
              "</style>\n",
              "<table border=\"1\" class=\"dataframe\">\n",
              "  <thead>\n",
              "    <tr style=\"text-align: right;\">\n",
              "      <th></th>\n",
              "      <th>id</th>\n",
              "      <th>tdate</th>\n",
              "      <th>tmane</th>\n",
              "      <th>text</th>\n",
              "      <th>toxic</th>\n",
              "      <th>trep</th>\n",
              "      <th>trtw</th>\n",
              "      <th>tfav</th>\n",
              "      <th>tstcount</th>\n",
              "      <th>tfol</th>\n",
              "      <th>tfrien</th>\n",
              "      <th>listcount</th>\n",
              "    </tr>\n",
              "  </thead>\n",
              "  <tbody>\n",
              "    <tr>\n",
              "      <th>0</th>\n",
              "      <td>408906762813579264</td>\n",
              "      <td>1386325944</td>\n",
              "      <td>dugarchikbellko</td>\n",
              "      <td>на работе был полный пиддес :| и так каждое за...</td>\n",
              "      <td>-1</td>\n",
              "      <td>0</td>\n",
              "      <td>0</td>\n",
              "      <td>0</td>\n",
              "      <td>8064</td>\n",
              "      <td>111</td>\n",
              "      <td>94</td>\n",
              "      <td>2</td>\n",
              "    </tr>\n",
              "    <tr>\n",
              "      <th>1</th>\n",
              "      <td>408906818262687744</td>\n",
              "      <td>1386325957</td>\n",
              "      <td>nugemycejela</td>\n",
              "      <td>Коллеги сидят рубятся в Urban terror, а я из-з...</td>\n",
              "      <td>-1</td>\n",
              "      <td>0</td>\n",
              "      <td>0</td>\n",
              "      <td>0</td>\n",
              "      <td>26</td>\n",
              "      <td>42</td>\n",
              "      <td>39</td>\n",
              "      <td>0</td>\n",
              "    </tr>\n",
              "    <tr>\n",
              "      <th>2</th>\n",
              "      <td>408906858515398656</td>\n",
              "      <td>1386325966</td>\n",
              "      <td>4post21</td>\n",
              "      <td>@elina_4post как говорят обещаного три года жд...</td>\n",
              "      <td>-1</td>\n",
              "      <td>0</td>\n",
              "      <td>0</td>\n",
              "      <td>0</td>\n",
              "      <td>718</td>\n",
              "      <td>49</td>\n",
              "      <td>249</td>\n",
              "      <td>0</td>\n",
              "    </tr>\n",
              "    <tr>\n",
              "      <th>3</th>\n",
              "      <td>408906914437685248</td>\n",
              "      <td>1386325980</td>\n",
              "      <td>Poliwake</td>\n",
              "      <td>Желаю хорошего полёта и удачной посадки,я буду...</td>\n",
              "      <td>-1</td>\n",
              "      <td>0</td>\n",
              "      <td>0</td>\n",
              "      <td>0</td>\n",
              "      <td>10628</td>\n",
              "      <td>207</td>\n",
              "      <td>200</td>\n",
              "      <td>0</td>\n",
              "    </tr>\n",
              "    <tr>\n",
              "      <th>4</th>\n",
              "      <td>408906914723295232</td>\n",
              "      <td>1386325980</td>\n",
              "      <td>capyvixowe</td>\n",
              "      <td>Обновил за каким-то лешим surf, теперь не рабо...</td>\n",
              "      <td>-1</td>\n",
              "      <td>0</td>\n",
              "      <td>0</td>\n",
              "      <td>0</td>\n",
              "      <td>35</td>\n",
              "      <td>17</td>\n",
              "      <td>34</td>\n",
              "      <td>0</td>\n",
              "    </tr>\n",
              "  </tbody>\n",
              "</table>\n",
              "</div>\n",
              "      <button class=\"colab-df-convert\" onclick=\"convertToInteractive('df-ca33bff9-b84f-467a-84b7-d20af6a61ba3')\"\n",
              "              title=\"Convert this dataframe to an interactive table.\"\n",
              "              style=\"display:none;\">\n",
              "        \n",
              "  <svg xmlns=\"http://www.w3.org/2000/svg\" height=\"24px\"viewBox=\"0 0 24 24\"\n",
              "       width=\"24px\">\n",
              "    <path d=\"M0 0h24v24H0V0z\" fill=\"none\"/>\n",
              "    <path d=\"M18.56 5.44l.94 2.06.94-2.06 2.06-.94-2.06-.94-.94-2.06-.94 2.06-2.06.94zm-11 1L8.5 8.5l.94-2.06 2.06-.94-2.06-.94L8.5 2.5l-.94 2.06-2.06.94zm10 10l.94 2.06.94-2.06 2.06-.94-2.06-.94-.94-2.06-.94 2.06-2.06.94z\"/><path d=\"M17.41 7.96l-1.37-1.37c-.4-.4-.92-.59-1.43-.59-.52 0-1.04.2-1.43.59L10.3 9.45l-7.72 7.72c-.78.78-.78 2.05 0 2.83L4 21.41c.39.39.9.59 1.41.59.51 0 1.02-.2 1.41-.59l7.78-7.78 2.81-2.81c.8-.78.8-2.07 0-2.86zM5.41 20L4 18.59l7.72-7.72 1.47 1.35L5.41 20z\"/>\n",
              "  </svg>\n",
              "      </button>\n",
              "      \n",
              "  <style>\n",
              "    .colab-df-container {\n",
              "      display:flex;\n",
              "      flex-wrap:wrap;\n",
              "      gap: 12px;\n",
              "    }\n",
              "\n",
              "    .colab-df-convert {\n",
              "      background-color: #E8F0FE;\n",
              "      border: none;\n",
              "      border-radius: 50%;\n",
              "      cursor: pointer;\n",
              "      display: none;\n",
              "      fill: #1967D2;\n",
              "      height: 32px;\n",
              "      padding: 0 0 0 0;\n",
              "      width: 32px;\n",
              "    }\n",
              "\n",
              "    .colab-df-convert:hover {\n",
              "      background-color: #E2EBFA;\n",
              "      box-shadow: 0px 1px 2px rgba(60, 64, 67, 0.3), 0px 1px 3px 1px rgba(60, 64, 67, 0.15);\n",
              "      fill: #174EA6;\n",
              "    }\n",
              "\n",
              "    [theme=dark] .colab-df-convert {\n",
              "      background-color: #3B4455;\n",
              "      fill: #D2E3FC;\n",
              "    }\n",
              "\n",
              "    [theme=dark] .colab-df-convert:hover {\n",
              "      background-color: #434B5C;\n",
              "      box-shadow: 0px 1px 3px 1px rgba(0, 0, 0, 0.15);\n",
              "      filter: drop-shadow(0px 1px 2px rgba(0, 0, 0, 0.3));\n",
              "      fill: #FFFFFF;\n",
              "    }\n",
              "  </style>\n",
              "\n",
              "      <script>\n",
              "        const buttonEl =\n",
              "          document.querySelector('#df-ca33bff9-b84f-467a-84b7-d20af6a61ba3 button.colab-df-convert');\n",
              "        buttonEl.style.display =\n",
              "          google.colab.kernel.accessAllowed ? 'block' : 'none';\n",
              "\n",
              "        async function convertToInteractive(key) {\n",
              "          const element = document.querySelector('#df-ca33bff9-b84f-467a-84b7-d20af6a61ba3');\n",
              "          const dataTable =\n",
              "            await google.colab.kernel.invokeFunction('convertToInteractive',\n",
              "                                                     [key], {});\n",
              "          if (!dataTable) return;\n",
              "\n",
              "          const docLinkHtml = 'Like what you see? Visit the ' +\n",
              "            '<a target=\"_blank\" href=https://colab.research.google.com/notebooks/data_table.ipynb>data table notebook</a>'\n",
              "            + ' to learn more about interactive tables.';\n",
              "          element.innerHTML = '';\n",
              "          dataTable['output_type'] = 'display_data';\n",
              "          await google.colab.output.renderOutput(dataTable, element);\n",
              "          const docLink = document.createElement('div');\n",
              "          docLink.innerHTML = docLinkHtml;\n",
              "          element.appendChild(docLink);\n",
              "        }\n",
              "      </script>\n",
              "    </div>\n",
              "  </div>\n",
              "  "
            ]
          },
          "metadata": {},
          "execution_count": 7
        }
      ]
    },
    {
      "cell_type": "markdown",
      "source": [
        "Данные загружены и изучены, теперь приступим к предобработке."
      ],
      "metadata": {
        "id": "tzCjHoas8wWJ"
      }
    },
    {
      "cell_type": "markdown",
      "source": [
        "# **Data preparation**"
      ],
      "metadata": {
        "id": "4s5p9B7jGmo_"
      }
    },
    {
      "cell_type": "code",
      "source": [
        "neg_data['toxic'] = 0"
      ],
      "metadata": {
        "id": "SpOsrGa76uzx"
      },
      "execution_count": 8,
      "outputs": []
    },
    {
      "cell_type": "markdown",
      "source": [
        "Соединим все один датасет."
      ],
      "metadata": {
        "id": "pDDYNXtf9yn-"
      }
    },
    {
      "cell_type": "code",
      "source": [
        "data = pd.concat([pos_data, neg_data])"
      ],
      "metadata": {
        "id": "R5xD5TLd9yEt"
      },
      "execution_count": 9,
      "outputs": []
    },
    {
      "cell_type": "code",
      "source": [
        "data.head()"
      ],
      "metadata": {
        "id": "GkynVl3897pX",
        "colab": {
          "base_uri": "https://localhost:8080/",
          "height": 206
        },
        "outputId": "8fa2557e-affd-4f2a-a532-2d32ed5cc6d3"
      },
      "execution_count": 10,
      "outputs": [
        {
          "output_type": "execute_result",
          "data": {
            "text/plain": [
              "                   id       tdate            tmane  \\\n",
              "0  408906692374446080  1386325927  pleease_shut_up   \n",
              "1  408906692693221377  1386325927  alinakirpicheva   \n",
              "2  408906695083954177  1386325927        EvgeshaRe   \n",
              "3  408906695356973056  1386325927    ikonnikova_21   \n",
              "4  408906761416867842  1386325943        JumpyAlex   \n",
              "\n",
              "                                                text  toxic  trep  trtw  tfav  \\\n",
              "0  @first_timee хоть я и школота, но поверь, у на...      1     0     0     0   \n",
              "1  Да, все-таки он немного похож на него. Но мой ...      1     0     0     0   \n",
              "2  RT @KatiaCheh: Ну ты идиотка) я испугалась за ...      1     0     1     0   \n",
              "3  RT @digger2912: \"Кто то в углу сидит и погибае...      1     0     1     0   \n",
              "4  @irina_dyshkant Вот что значит страшилка :D\\nН...      1     0     0     0   \n",
              "\n",
              "   tstcount  tfol  tfrien  listcount  \n",
              "0      7569    62      61          0  \n",
              "1     11825    59      31          2  \n",
              "2      1273    26      27          0  \n",
              "3      1549    19      17          0  \n",
              "4       597    16      23          1  "
            ],
            "text/html": [
              "\n",
              "  <div id=\"df-6de8d145-ee88-4185-9e56-c23cdf077b30\">\n",
              "    <div class=\"colab-df-container\">\n",
              "      <div>\n",
              "<style scoped>\n",
              "    .dataframe tbody tr th:only-of-type {\n",
              "        vertical-align: middle;\n",
              "    }\n",
              "\n",
              "    .dataframe tbody tr th {\n",
              "        vertical-align: top;\n",
              "    }\n",
              "\n",
              "    .dataframe thead th {\n",
              "        text-align: right;\n",
              "    }\n",
              "</style>\n",
              "<table border=\"1\" class=\"dataframe\">\n",
              "  <thead>\n",
              "    <tr style=\"text-align: right;\">\n",
              "      <th></th>\n",
              "      <th>id</th>\n",
              "      <th>tdate</th>\n",
              "      <th>tmane</th>\n",
              "      <th>text</th>\n",
              "      <th>toxic</th>\n",
              "      <th>trep</th>\n",
              "      <th>trtw</th>\n",
              "      <th>tfav</th>\n",
              "      <th>tstcount</th>\n",
              "      <th>tfol</th>\n",
              "      <th>tfrien</th>\n",
              "      <th>listcount</th>\n",
              "    </tr>\n",
              "  </thead>\n",
              "  <tbody>\n",
              "    <tr>\n",
              "      <th>0</th>\n",
              "      <td>408906692374446080</td>\n",
              "      <td>1386325927</td>\n",
              "      <td>pleease_shut_up</td>\n",
              "      <td>@first_timee хоть я и школота, но поверь, у на...</td>\n",
              "      <td>1</td>\n",
              "      <td>0</td>\n",
              "      <td>0</td>\n",
              "      <td>0</td>\n",
              "      <td>7569</td>\n",
              "      <td>62</td>\n",
              "      <td>61</td>\n",
              "      <td>0</td>\n",
              "    </tr>\n",
              "    <tr>\n",
              "      <th>1</th>\n",
              "      <td>408906692693221377</td>\n",
              "      <td>1386325927</td>\n",
              "      <td>alinakirpicheva</td>\n",
              "      <td>Да, все-таки он немного похож на него. Но мой ...</td>\n",
              "      <td>1</td>\n",
              "      <td>0</td>\n",
              "      <td>0</td>\n",
              "      <td>0</td>\n",
              "      <td>11825</td>\n",
              "      <td>59</td>\n",
              "      <td>31</td>\n",
              "      <td>2</td>\n",
              "    </tr>\n",
              "    <tr>\n",
              "      <th>2</th>\n",
              "      <td>408906695083954177</td>\n",
              "      <td>1386325927</td>\n",
              "      <td>EvgeshaRe</td>\n",
              "      <td>RT @KatiaCheh: Ну ты идиотка) я испугалась за ...</td>\n",
              "      <td>1</td>\n",
              "      <td>0</td>\n",
              "      <td>1</td>\n",
              "      <td>0</td>\n",
              "      <td>1273</td>\n",
              "      <td>26</td>\n",
              "      <td>27</td>\n",
              "      <td>0</td>\n",
              "    </tr>\n",
              "    <tr>\n",
              "      <th>3</th>\n",
              "      <td>408906695356973056</td>\n",
              "      <td>1386325927</td>\n",
              "      <td>ikonnikova_21</td>\n",
              "      <td>RT @digger2912: \"Кто то в углу сидит и погибае...</td>\n",
              "      <td>1</td>\n",
              "      <td>0</td>\n",
              "      <td>1</td>\n",
              "      <td>0</td>\n",
              "      <td>1549</td>\n",
              "      <td>19</td>\n",
              "      <td>17</td>\n",
              "      <td>0</td>\n",
              "    </tr>\n",
              "    <tr>\n",
              "      <th>4</th>\n",
              "      <td>408906761416867842</td>\n",
              "      <td>1386325943</td>\n",
              "      <td>JumpyAlex</td>\n",
              "      <td>@irina_dyshkant Вот что значит страшилка :D\\nН...</td>\n",
              "      <td>1</td>\n",
              "      <td>0</td>\n",
              "      <td>0</td>\n",
              "      <td>0</td>\n",
              "      <td>597</td>\n",
              "      <td>16</td>\n",
              "      <td>23</td>\n",
              "      <td>1</td>\n",
              "    </tr>\n",
              "  </tbody>\n",
              "</table>\n",
              "</div>\n",
              "      <button class=\"colab-df-convert\" onclick=\"convertToInteractive('df-6de8d145-ee88-4185-9e56-c23cdf077b30')\"\n",
              "              title=\"Convert this dataframe to an interactive table.\"\n",
              "              style=\"display:none;\">\n",
              "        \n",
              "  <svg xmlns=\"http://www.w3.org/2000/svg\" height=\"24px\"viewBox=\"0 0 24 24\"\n",
              "       width=\"24px\">\n",
              "    <path d=\"M0 0h24v24H0V0z\" fill=\"none\"/>\n",
              "    <path d=\"M18.56 5.44l.94 2.06.94-2.06 2.06-.94-2.06-.94-.94-2.06-.94 2.06-2.06.94zm-11 1L8.5 8.5l.94-2.06 2.06-.94-2.06-.94L8.5 2.5l-.94 2.06-2.06.94zm10 10l.94 2.06.94-2.06 2.06-.94-2.06-.94-.94-2.06-.94 2.06-2.06.94z\"/><path d=\"M17.41 7.96l-1.37-1.37c-.4-.4-.92-.59-1.43-.59-.52 0-1.04.2-1.43.59L10.3 9.45l-7.72 7.72c-.78.78-.78 2.05 0 2.83L4 21.41c.39.39.9.59 1.41.59.51 0 1.02-.2 1.41-.59l7.78-7.78 2.81-2.81c.8-.78.8-2.07 0-2.86zM5.41 20L4 18.59l7.72-7.72 1.47 1.35L5.41 20z\"/>\n",
              "  </svg>\n",
              "      </button>\n",
              "      \n",
              "  <style>\n",
              "    .colab-df-container {\n",
              "      display:flex;\n",
              "      flex-wrap:wrap;\n",
              "      gap: 12px;\n",
              "    }\n",
              "\n",
              "    .colab-df-convert {\n",
              "      background-color: #E8F0FE;\n",
              "      border: none;\n",
              "      border-radius: 50%;\n",
              "      cursor: pointer;\n",
              "      display: none;\n",
              "      fill: #1967D2;\n",
              "      height: 32px;\n",
              "      padding: 0 0 0 0;\n",
              "      width: 32px;\n",
              "    }\n",
              "\n",
              "    .colab-df-convert:hover {\n",
              "      background-color: #E2EBFA;\n",
              "      box-shadow: 0px 1px 2px rgba(60, 64, 67, 0.3), 0px 1px 3px 1px rgba(60, 64, 67, 0.15);\n",
              "      fill: #174EA6;\n",
              "    }\n",
              "\n",
              "    [theme=dark] .colab-df-convert {\n",
              "      background-color: #3B4455;\n",
              "      fill: #D2E3FC;\n",
              "    }\n",
              "\n",
              "    [theme=dark] .colab-df-convert:hover {\n",
              "      background-color: #434B5C;\n",
              "      box-shadow: 0px 1px 3px 1px rgba(0, 0, 0, 0.15);\n",
              "      filter: drop-shadow(0px 1px 2px rgba(0, 0, 0, 0.3));\n",
              "      fill: #FFFFFF;\n",
              "    }\n",
              "  </style>\n",
              "\n",
              "      <script>\n",
              "        const buttonEl =\n",
              "          document.querySelector('#df-6de8d145-ee88-4185-9e56-c23cdf077b30 button.colab-df-convert');\n",
              "        buttonEl.style.display =\n",
              "          google.colab.kernel.accessAllowed ? 'block' : 'none';\n",
              "\n",
              "        async function convertToInteractive(key) {\n",
              "          const element = document.querySelector('#df-6de8d145-ee88-4185-9e56-c23cdf077b30');\n",
              "          const dataTable =\n",
              "            await google.colab.kernel.invokeFunction('convertToInteractive',\n",
              "                                                     [key], {});\n",
              "          if (!dataTable) return;\n",
              "\n",
              "          const docLinkHtml = 'Like what you see? Visit the ' +\n",
              "            '<a target=\"_blank\" href=https://colab.research.google.com/notebooks/data_table.ipynb>data table notebook</a>'\n",
              "            + ' to learn more about interactive tables.';\n",
              "          element.innerHTML = '';\n",
              "          dataTable['output_type'] = 'display_data';\n",
              "          await google.colab.output.renderOutput(dataTable, element);\n",
              "          const docLink = document.createElement('div');\n",
              "          docLink.innerHTML = docLinkHtml;\n",
              "          element.appendChild(docLink);\n",
              "        }\n",
              "      </script>\n",
              "    </div>\n",
              "  </div>\n",
              "  "
            ]
          },
          "metadata": {},
          "execution_count": 10
        }
      ]
    },
    {
      "cell_type": "markdown",
      "source": [
        "Отбросим ненужные колонки."
      ],
      "metadata": {
        "id": "o5LCEIYN5DhQ"
      }
    },
    {
      "cell_type": "code",
      "source": [
        "data = data[['text', 'toxic']]"
      ],
      "metadata": {
        "id": "KKPvJ4oQ999T"
      },
      "execution_count": 11,
      "outputs": []
    },
    {
      "cell_type": "code",
      "source": [
        "data['toxic'] = data['toxic'].astype(bool)"
      ],
      "metadata": {
        "id": "a927B45h7EsD"
      },
      "execution_count": 12,
      "outputs": []
    },
    {
      "cell_type": "markdown",
      "source": [
        "Теперь очистим корпус от лишних символов при помощи регулярных выражений."
      ],
      "metadata": {
        "id": "3T5tAM8I94Et"
      }
    },
    {
      "cell_type": "code",
      "source": [
        "def clear_text(text):\n",
        "    t = re.sub(r'[^а-яА-ЯёЁ ]', ' ', text)\n",
        "    t = ' '.join(t.split())\n",
        "    return t"
      ],
      "metadata": {
        "id": "wotXlhvK7Xo1"
      },
      "execution_count": 13,
      "outputs": []
    },
    {
      "cell_type": "code",
      "source": [
        "data['clear_text'] = data['text'].apply(clear_text)"
      ],
      "metadata": {
        "id": "bsCHOlE8-FHv"
      },
      "execution_count": 14,
      "outputs": []
    },
    {
      "cell_type": "markdown",
      "source": [
        "Проверим есть ли предложения, которые вообще не содержат символов, после обработки регуляркой."
      ],
      "metadata": {
        "id": "eBXZp-1IAu4h"
      }
    },
    {
      "cell_type": "code",
      "source": [
        "data[data['clear_text'] == '']"
      ],
      "metadata": {
        "id": "PqwqoTJAEHPA",
        "colab": {
          "base_uri": "https://localhost:8080/",
          "height": 175
        },
        "outputId": "7093afd6-3ef2-4ec7-b98d-b8e296a83d3b"
      },
      "execution_count": 15,
      "outputs": [
        {
          "output_type": "execute_result",
          "data": {
            "text/plain": [
              "                                                    text  toxic clear_text\n",
              "9374   RT @_Batonchik_: @cekc_tyt @aabdullaeva1 @chem...  False           \n",
              "21396  RT @SolarEclipse57: @girl_turner666 @SCOOB_JOE...  False           \n",
              "47515  RT @unixOS_ctts: @Mo_OnMery @SimplyShot @_Shav...  False           \n",
              "62937  RT @puteribunga10: \"@kinantinatya: :\"\"\"\"\"\"\"\"\"\"...  False           "
            ],
            "text/html": [
              "\n",
              "  <div id=\"df-2fd7ed28-9333-4d2e-b15f-8da809bd9e1b\">\n",
              "    <div class=\"colab-df-container\">\n",
              "      <div>\n",
              "<style scoped>\n",
              "    .dataframe tbody tr th:only-of-type {\n",
              "        vertical-align: middle;\n",
              "    }\n",
              "\n",
              "    .dataframe tbody tr th {\n",
              "        vertical-align: top;\n",
              "    }\n",
              "\n",
              "    .dataframe thead th {\n",
              "        text-align: right;\n",
              "    }\n",
              "</style>\n",
              "<table border=\"1\" class=\"dataframe\">\n",
              "  <thead>\n",
              "    <tr style=\"text-align: right;\">\n",
              "      <th></th>\n",
              "      <th>text</th>\n",
              "      <th>toxic</th>\n",
              "      <th>clear_text</th>\n",
              "    </tr>\n",
              "  </thead>\n",
              "  <tbody>\n",
              "    <tr>\n",
              "      <th>9374</th>\n",
              "      <td>RT @_Batonchik_: @cekc_tyt @aabdullaeva1 @chem...</td>\n",
              "      <td>False</td>\n",
              "      <td></td>\n",
              "    </tr>\n",
              "    <tr>\n",
              "      <th>21396</th>\n",
              "      <td>RT @SolarEclipse57: @girl_turner666 @SCOOB_JOE...</td>\n",
              "      <td>False</td>\n",
              "      <td></td>\n",
              "    </tr>\n",
              "    <tr>\n",
              "      <th>47515</th>\n",
              "      <td>RT @unixOS_ctts: @Mo_OnMery @SimplyShot @_Shav...</td>\n",
              "      <td>False</td>\n",
              "      <td></td>\n",
              "    </tr>\n",
              "    <tr>\n",
              "      <th>62937</th>\n",
              "      <td>RT @puteribunga10: \"@kinantinatya: :\"\"\"\"\"\"\"\"\"\"...</td>\n",
              "      <td>False</td>\n",
              "      <td></td>\n",
              "    </tr>\n",
              "  </tbody>\n",
              "</table>\n",
              "</div>\n",
              "      <button class=\"colab-df-convert\" onclick=\"convertToInteractive('df-2fd7ed28-9333-4d2e-b15f-8da809bd9e1b')\"\n",
              "              title=\"Convert this dataframe to an interactive table.\"\n",
              "              style=\"display:none;\">\n",
              "        \n",
              "  <svg xmlns=\"http://www.w3.org/2000/svg\" height=\"24px\"viewBox=\"0 0 24 24\"\n",
              "       width=\"24px\">\n",
              "    <path d=\"M0 0h24v24H0V0z\" fill=\"none\"/>\n",
              "    <path d=\"M18.56 5.44l.94 2.06.94-2.06 2.06-.94-2.06-.94-.94-2.06-.94 2.06-2.06.94zm-11 1L8.5 8.5l.94-2.06 2.06-.94-2.06-.94L8.5 2.5l-.94 2.06-2.06.94zm10 10l.94 2.06.94-2.06 2.06-.94-2.06-.94-.94-2.06-.94 2.06-2.06.94z\"/><path d=\"M17.41 7.96l-1.37-1.37c-.4-.4-.92-.59-1.43-.59-.52 0-1.04.2-1.43.59L10.3 9.45l-7.72 7.72c-.78.78-.78 2.05 0 2.83L4 21.41c.39.39.9.59 1.41.59.51 0 1.02-.2 1.41-.59l7.78-7.78 2.81-2.81c.8-.78.8-2.07 0-2.86zM5.41 20L4 18.59l7.72-7.72 1.47 1.35L5.41 20z\"/>\n",
              "  </svg>\n",
              "      </button>\n",
              "      \n",
              "  <style>\n",
              "    .colab-df-container {\n",
              "      display:flex;\n",
              "      flex-wrap:wrap;\n",
              "      gap: 12px;\n",
              "    }\n",
              "\n",
              "    .colab-df-convert {\n",
              "      background-color: #E8F0FE;\n",
              "      border: none;\n",
              "      border-radius: 50%;\n",
              "      cursor: pointer;\n",
              "      display: none;\n",
              "      fill: #1967D2;\n",
              "      height: 32px;\n",
              "      padding: 0 0 0 0;\n",
              "      width: 32px;\n",
              "    }\n",
              "\n",
              "    .colab-df-convert:hover {\n",
              "      background-color: #E2EBFA;\n",
              "      box-shadow: 0px 1px 2px rgba(60, 64, 67, 0.3), 0px 1px 3px 1px rgba(60, 64, 67, 0.15);\n",
              "      fill: #174EA6;\n",
              "    }\n",
              "\n",
              "    [theme=dark] .colab-df-convert {\n",
              "      background-color: #3B4455;\n",
              "      fill: #D2E3FC;\n",
              "    }\n",
              "\n",
              "    [theme=dark] .colab-df-convert:hover {\n",
              "      background-color: #434B5C;\n",
              "      box-shadow: 0px 1px 3px 1px rgba(0, 0, 0, 0.15);\n",
              "      filter: drop-shadow(0px 1px 2px rgba(0, 0, 0, 0.3));\n",
              "      fill: #FFFFFF;\n",
              "    }\n",
              "  </style>\n",
              "\n",
              "      <script>\n",
              "        const buttonEl =\n",
              "          document.querySelector('#df-2fd7ed28-9333-4d2e-b15f-8da809bd9e1b button.colab-df-convert');\n",
              "        buttonEl.style.display =\n",
              "          google.colab.kernel.accessAllowed ? 'block' : 'none';\n",
              "\n",
              "        async function convertToInteractive(key) {\n",
              "          const element = document.querySelector('#df-2fd7ed28-9333-4d2e-b15f-8da809bd9e1b');\n",
              "          const dataTable =\n",
              "            await google.colab.kernel.invokeFunction('convertToInteractive',\n",
              "                                                     [key], {});\n",
              "          if (!dataTable) return;\n",
              "\n",
              "          const docLinkHtml = 'Like what you see? Visit the ' +\n",
              "            '<a target=\"_blank\" href=https://colab.research.google.com/notebooks/data_table.ipynb>data table notebook</a>'\n",
              "            + ' to learn more about interactive tables.';\n",
              "          element.innerHTML = '';\n",
              "          dataTable['output_type'] = 'display_data';\n",
              "          await google.colab.output.renderOutput(dataTable, element);\n",
              "          const docLink = document.createElement('div');\n",
              "          docLink.innerHTML = docLinkHtml;\n",
              "          element.appendChild(docLink);\n",
              "        }\n",
              "      </script>\n",
              "    </div>\n",
              "  </div>\n",
              "  "
            ]
          },
          "metadata": {},
          "execution_count": 15
        }
      ]
    },
    {
      "cell_type": "markdown",
      "source": [
        "Удалим их."
      ],
      "metadata": {
        "id": "yXT7JBwrA5SU"
      }
    },
    {
      "cell_type": "code",
      "source": [
        "data = data[data['clear_text'] != '']"
      ],
      "metadata": {
        "id": "G5JcqWIVC_Ms"
      },
      "execution_count": 16,
      "outputs": []
    },
    {
      "cell_type": "markdown",
      "source": [
        "Проверим на наличие дубликатов."
      ],
      "metadata": {
        "id": "Fs-732bpeH9Y"
      }
    },
    {
      "cell_type": "code",
      "source": [
        "data.duplicated().sum()"
      ],
      "metadata": {
        "colab": {
          "base_uri": "https://localhost:8080/"
        },
        "id": "FmmVggNtEJBt",
        "outputId": "19f1b7dc-4fa5-4a44-f680-6e9a1eb33b4c"
      },
      "execution_count": 17,
      "outputs": [
        {
          "output_type": "execute_result",
          "data": {
            "text/plain": [
              "9394"
            ]
          },
          "metadata": {},
          "execution_count": 17
        }
      ]
    },
    {
      "cell_type": "markdown",
      "source": [
        "Удалим дубликаты."
      ],
      "metadata": {
        "id": "vUKY8PNReMB5"
      }
    },
    {
      "cell_type": "code",
      "source": [
        "data = data.drop_duplicates().reset_index(drop=True)"
      ],
      "metadata": {
        "id": "c5CdsNiqELvO"
      },
      "execution_count": 18,
      "outputs": []
    },
    {
      "cell_type": "markdown",
      "source": [
        "Уберем верхний регистр."
      ],
      "metadata": {
        "id": "wLKBzjMahnGT"
      }
    },
    {
      "cell_type": "code",
      "source": [
        "data['clear_text'] = data['clear_text'].str.lower() "
      ],
      "metadata": {
        "id": "Km9OurlLhtZz"
      },
      "execution_count": 19,
      "outputs": []
    },
    {
      "cell_type": "markdown",
      "source": [
        "Перемешаем данные."
      ],
      "metadata": {
        "id": "PFF4HOpQeOJZ"
      }
    },
    {
      "cell_type": "code",
      "source": [
        "data = data.sample(frac=1, random_state=67).reset_index(drop=True)"
      ],
      "metadata": {
        "id": "Qu5CxzDj_A92"
      },
      "execution_count": 20,
      "outputs": []
    },
    {
      "cell_type": "code",
      "source": [
        "data.head()"
      ],
      "metadata": {
        "id": "2a4aivLM-L3X",
        "colab": {
          "base_uri": "https://localhost:8080/",
          "height": 206
        },
        "outputId": "6231e56f-f7c1-4fa9-ff42-163cbfa1a2dd"
      },
      "execution_count": 21,
      "outputs": [
        {
          "output_type": "execute_result",
          "data": {
            "text/plain": [
              "                                                text  toxic  \\\n",
              "0  Нормальный парень никогда не станет унижать бы...   True   \n",
              "1       нихачу в универ обратно, хочу быть эльфиком(  False   \n",
              "2  @EvgenyFeldman с ним уже пару месяцев такое. н...  False   \n",
              "3  @elenabodya заебись, люблю @elenabodya ,  сэко...   True   \n",
              "4  лазила по ВК и наткнулась на девочку с ником \"...   True   \n",
              "\n",
              "                                          clear_text  \n",
              "0  нормальный парень никогда не станет унижать бы...  \n",
              "1         нихачу в универ обратно хочу быть эльфиком  \n",
              "2   с ним уже пару месяцев такое не обращай внимание  \n",
              "3                заебись люблю сэкономил к на куртке  \n",
              "4  лазила по вк и наткнулась на девочку с ником к...  "
            ],
            "text/html": [
              "\n",
              "  <div id=\"df-659dcbb8-097a-4525-8ca4-3538f548d7e7\">\n",
              "    <div class=\"colab-df-container\">\n",
              "      <div>\n",
              "<style scoped>\n",
              "    .dataframe tbody tr th:only-of-type {\n",
              "        vertical-align: middle;\n",
              "    }\n",
              "\n",
              "    .dataframe tbody tr th {\n",
              "        vertical-align: top;\n",
              "    }\n",
              "\n",
              "    .dataframe thead th {\n",
              "        text-align: right;\n",
              "    }\n",
              "</style>\n",
              "<table border=\"1\" class=\"dataframe\">\n",
              "  <thead>\n",
              "    <tr style=\"text-align: right;\">\n",
              "      <th></th>\n",
              "      <th>text</th>\n",
              "      <th>toxic</th>\n",
              "      <th>clear_text</th>\n",
              "    </tr>\n",
              "  </thead>\n",
              "  <tbody>\n",
              "    <tr>\n",
              "      <th>0</th>\n",
              "      <td>Нормальный парень никогда не станет унижать бы...</td>\n",
              "      <td>True</td>\n",
              "      <td>нормальный парень никогда не станет унижать бы...</td>\n",
              "    </tr>\n",
              "    <tr>\n",
              "      <th>1</th>\n",
              "      <td>нихачу в универ обратно, хочу быть эльфиком(</td>\n",
              "      <td>False</td>\n",
              "      <td>нихачу в универ обратно хочу быть эльфиком</td>\n",
              "    </tr>\n",
              "    <tr>\n",
              "      <th>2</th>\n",
              "      <td>@EvgenyFeldman с ним уже пару месяцев такое. н...</td>\n",
              "      <td>False</td>\n",
              "      <td>с ним уже пару месяцев такое не обращай внимание</td>\n",
              "    </tr>\n",
              "    <tr>\n",
              "      <th>3</th>\n",
              "      <td>@elenabodya заебись, люблю @elenabodya ,  сэко...</td>\n",
              "      <td>True</td>\n",
              "      <td>заебись люблю сэкономил к на куртке</td>\n",
              "    </tr>\n",
              "    <tr>\n",
              "      <th>4</th>\n",
              "      <td>лазила по ВК и наткнулась на девочку с ником \"...</td>\n",
              "      <td>True</td>\n",
              "      <td>лазила по вк и наткнулась на девочку с ником к...</td>\n",
              "    </tr>\n",
              "  </tbody>\n",
              "</table>\n",
              "</div>\n",
              "      <button class=\"colab-df-convert\" onclick=\"convertToInteractive('df-659dcbb8-097a-4525-8ca4-3538f548d7e7')\"\n",
              "              title=\"Convert this dataframe to an interactive table.\"\n",
              "              style=\"display:none;\">\n",
              "        \n",
              "  <svg xmlns=\"http://www.w3.org/2000/svg\" height=\"24px\"viewBox=\"0 0 24 24\"\n",
              "       width=\"24px\">\n",
              "    <path d=\"M0 0h24v24H0V0z\" fill=\"none\"/>\n",
              "    <path d=\"M18.56 5.44l.94 2.06.94-2.06 2.06-.94-2.06-.94-.94-2.06-.94 2.06-2.06.94zm-11 1L8.5 8.5l.94-2.06 2.06-.94-2.06-.94L8.5 2.5l-.94 2.06-2.06.94zm10 10l.94 2.06.94-2.06 2.06-.94-2.06-.94-.94-2.06-.94 2.06-2.06.94z\"/><path d=\"M17.41 7.96l-1.37-1.37c-.4-.4-.92-.59-1.43-.59-.52 0-1.04.2-1.43.59L10.3 9.45l-7.72 7.72c-.78.78-.78 2.05 0 2.83L4 21.41c.39.39.9.59 1.41.59.51 0 1.02-.2 1.41-.59l7.78-7.78 2.81-2.81c.8-.78.8-2.07 0-2.86zM5.41 20L4 18.59l7.72-7.72 1.47 1.35L5.41 20z\"/>\n",
              "  </svg>\n",
              "      </button>\n",
              "      \n",
              "  <style>\n",
              "    .colab-df-container {\n",
              "      display:flex;\n",
              "      flex-wrap:wrap;\n",
              "      gap: 12px;\n",
              "    }\n",
              "\n",
              "    .colab-df-convert {\n",
              "      background-color: #E8F0FE;\n",
              "      border: none;\n",
              "      border-radius: 50%;\n",
              "      cursor: pointer;\n",
              "      display: none;\n",
              "      fill: #1967D2;\n",
              "      height: 32px;\n",
              "      padding: 0 0 0 0;\n",
              "      width: 32px;\n",
              "    }\n",
              "\n",
              "    .colab-df-convert:hover {\n",
              "      background-color: #E2EBFA;\n",
              "      box-shadow: 0px 1px 2px rgba(60, 64, 67, 0.3), 0px 1px 3px 1px rgba(60, 64, 67, 0.15);\n",
              "      fill: #174EA6;\n",
              "    }\n",
              "\n",
              "    [theme=dark] .colab-df-convert {\n",
              "      background-color: #3B4455;\n",
              "      fill: #D2E3FC;\n",
              "    }\n",
              "\n",
              "    [theme=dark] .colab-df-convert:hover {\n",
              "      background-color: #434B5C;\n",
              "      box-shadow: 0px 1px 3px 1px rgba(0, 0, 0, 0.15);\n",
              "      filter: drop-shadow(0px 1px 2px rgba(0, 0, 0, 0.3));\n",
              "      fill: #FFFFFF;\n",
              "    }\n",
              "  </style>\n",
              "\n",
              "      <script>\n",
              "        const buttonEl =\n",
              "          document.querySelector('#df-659dcbb8-097a-4525-8ca4-3538f548d7e7 button.colab-df-convert');\n",
              "        buttonEl.style.display =\n",
              "          google.colab.kernel.accessAllowed ? 'block' : 'none';\n",
              "\n",
              "        async function convertToInteractive(key) {\n",
              "          const element = document.querySelector('#df-659dcbb8-097a-4525-8ca4-3538f548d7e7');\n",
              "          const dataTable =\n",
              "            await google.colab.kernel.invokeFunction('convertToInteractive',\n",
              "                                                     [key], {});\n",
              "          if (!dataTable) return;\n",
              "\n",
              "          const docLinkHtml = 'Like what you see? Visit the ' +\n",
              "            '<a target=\"_blank\" href=https://colab.research.google.com/notebooks/data_table.ipynb>data table notebook</a>'\n",
              "            + ' to learn more about interactive tables.';\n",
              "          element.innerHTML = '';\n",
              "          dataTable['output_type'] = 'display_data';\n",
              "          await google.colab.output.renderOutput(dataTable, element);\n",
              "          const docLink = document.createElement('div');\n",
              "          docLink.innerHTML = docLinkHtml;\n",
              "          element.appendChild(docLink);\n",
              "        }\n",
              "      </script>\n",
              "    </div>\n",
              "  </div>\n",
              "  "
            ]
          },
          "metadata": {},
          "execution_count": 21
        }
      ]
    },
    {
      "cell_type": "code",
      "source": [
        "data.info()"
      ],
      "metadata": {
        "colab": {
          "base_uri": "https://localhost:8080/"
        },
        "id": "WmHpH8E9rdQw",
        "outputId": "387a96b0-9a50-45dd-9996-00f3606b4ee1"
      },
      "execution_count": 22,
      "outputs": [
        {
          "output_type": "stream",
          "name": "stdout",
          "text": [
            "<class 'pandas.core.frame.DataFrame'>\n",
            "RangeIndex: 217436 entries, 0 to 217435\n",
            "Data columns (total 3 columns):\n",
            " #   Column      Non-Null Count   Dtype \n",
            "---  ------      --------------   ----- \n",
            " 0   text        217436 non-null  object\n",
            " 1   toxic       217436 non-null  bool  \n",
            " 2   clear_text  217436 non-null  object\n",
            "dtypes: bool(1), object(2)\n",
            "memory usage: 3.5+ MB\n"
          ]
        }
      ]
    },
    {
      "cell_type": "markdown",
      "source": [
        "Предобработку завершили, теперь приступим к EDA."
      ],
      "metadata": {
        "id": "BhV9Ikz29Htm"
      }
    },
    {
      "cell_type": "markdown",
      "source": [
        "# **EDA**"
      ],
      "metadata": {
        "id": "soajz1f4YHoc"
      }
    },
    {
      "cell_type": "markdown",
      "source": [
        "Изучим кол-во символов и слов в текстах."
      ],
      "metadata": {
        "id": "lIW6368KNCq9"
      }
    },
    {
      "cell_type": "code",
      "source": [
        "data['symbols'] = data['clear_text'].apply(len)\n",
        "data['tokens'] = data['clear_text'].str.split().apply(len)\n"
      ],
      "metadata": {
        "id": "yMQZH5PqZ1ZL"
      },
      "execution_count": 23,
      "outputs": []
    },
    {
      "cell_type": "code",
      "source": [
        "plt.figure(figsize=(9, 6))\n",
        "sns.histplot(x=data['symbols'], color='royalblue', bins=15)\n",
        "plt.show()"
      ],
      "metadata": {
        "id": "V_AZxhQRerS-",
        "colab": {
          "base_uri": "https://localhost:8080/",
          "height": 394
        },
        "outputId": "eee964b5-9306-4f01-a068-c9b4ca6a7ef5"
      },
      "execution_count": 24,
      "outputs": [
        {
          "output_type": "display_data",
          "data": {
            "text/plain": [
              "<Figure size 648x432 with 1 Axes>"
            ],
            "image/png": "[encoded data removed]"
          },
          "metadata": {}
        }
      ]
    },
    {
      "cell_type": "code",
      "source": [
        "plt.figure(figsize=(9, 6))\n",
        "sns.histplot(x=data['tokens'], color='royalblue', bins=15)\n",
        "plt.show()"
      ],
      "metadata": {
        "id": "NqwCqW8LerVQ",
        "colab": {
          "base_uri": "https://localhost:8080/",
          "height": 394
        },
        "outputId": "950ca19e-7450-448f-92e5-c2ce3ebd17e9"
      },
      "execution_count": 25,
      "outputs": [
        {
          "output_type": "display_data",
          "data": {
            "text/plain": [
              "<Figure size 648x432 with 1 Axes>"
            ],
            "image/png": "[encoded data removed]"
          },
          "metadata": {}
        }
      ]
    },
    {
      "cell_type": "markdown",
      "source": [
        "Изучим таргет."
      ],
      "metadata": {
        "id": "yYKUArNoNJp2"
      }
    },
    {
      "cell_type": "code",
      "source": [
        "data['toxic'].value_counts().plot(kind='bar', title='target distribution', xlabel='classes', \n",
        "                                     ylabel='quantity', rot=1, color='orange', alpha =0.9, figsize=(9,9))\n",
        "plt.show()"
      ],
      "metadata": {
        "id": "UjC1DxmmYG1Y",
        "colab": {
          "base_uri": "https://localhost:8080/",
          "height": 573
        },
        "outputId": "63275696-cc3e-422d-cfc8-a83baa340ebb"
      },
      "execution_count": 26,
      "outputs": [
        {
          "output_type": "display_data",
          "data": {
            "text/plain": [
              "<Figure size 648x648 with 1 Axes>"
            ],
            "image/png": "[encoded data removed]"
          },
          "metadata": {}
        }
      ]
    },
    {
      "cell_type": "markdown",
      "source": [
        "в таргете классы сбалансированы."
      ],
      "metadata": {
        "id": "ZfxC5EpqNNmi"
      }
    },
    {
      "cell_type": "markdown",
      "source": [
        "Удалим строки в которых всего одно слово, так как такие предложения слишком не информативны."
      ],
      "metadata": {
        "id": "wMAgg4PIdFor"
      }
    },
    {
      "cell_type": "code",
      "source": [
        "data = data[data['tokens'] > 1]"
      ],
      "metadata": {
        "id": "w6tqq1o7dTZa"
      },
      "execution_count": 27,
      "outputs": []
    },
    {
      "cell_type": "markdown",
      "source": [
        "Удалим ненужные колонки."
      ],
      "metadata": {
        "id": "nrXjhsjgevj7"
      }
    },
    {
      "cell_type": "code",
      "source": [
        "data = data.drop(['symbols', 'tokens'], axis=1)"
      ],
      "metadata": {
        "id": "e6kRquPCz0QD"
      },
      "execution_count": 28,
      "outputs": []
    },
    {
      "cell_type": "markdown",
      "source": [
        "EDA завершили."
      ],
      "metadata": {
        "id": "C0IpRMD09SsK"
      }
    },
    {
      "cell_type": "markdown",
      "source": [
        "Попробуем два подхода:\n",
        "1. TF-IDF + logreg.\n",
        "2. эмбеддинги, сгенерированные с помощью ruBERT + logreg."
      ],
      "metadata": {
        "id": "QM8rSFOR3nEW"
      }
    },
    {
      "cell_type": "markdown",
      "source": [
        "# **TF-IDF**"
      ],
      "metadata": {
        "id": "eBSV47f4WQN1"
      }
    },
    {
      "cell_type": "markdown",
      "source": [
        "Лемматизируем текст."
      ],
      "metadata": {
        "id": "J1tNisSl9nb6"
      }
    },
    {
      "cell_type": "code",
      "source": [
        "m = Mystem()"
      ],
      "metadata": {
        "id": "OklaHJFAFFZr"
      },
      "execution_count": 29,
      "outputs": []
    },
    {
      "cell_type": "code",
      "source": [
        "def lemmatize_text(text):\n",
        "    tokens = m.lemmatize(text.lower())\n",
        "    tokens = [token for token in tokens if token != '\\n']\n",
        "    text = \" \".join(tokens)\n",
        "    \n",
        "    return text"
      ],
      "metadata": {
        "id": "ALkZ4IFUMWv8"
      },
      "execution_count": 30,
      "outputs": []
    },
    {
      "cell_type": "code",
      "source": [
        "data['lemm_text'] = data['clear_text'].apply(lemmatize_text)"
      ],
      "metadata": {
        "id": "grM6ccd5fzcW"
      },
      "execution_count": 31,
      "outputs": []
    },
    {
      "cell_type": "code",
      "source": [
        "data.head()"
      ],
      "metadata": {
        "id": "xU2mIYbygxou",
        "colab": {
          "base_uri": "https://localhost:8080/",
          "height": 206
        },
        "outputId": "29f9411e-5f30-4567-ea91-0300fb37e6ff"
      },
      "execution_count": 32,
      "outputs": [
        {
          "output_type": "execute_result",
          "data": {
            "text/plain": [
              "                                                text  toxic  \\\n",
              "0  Нормальный парень никогда не станет унижать бы...   True   \n",
              "1       нихачу в универ обратно, хочу быть эльфиком(  False   \n",
              "2  @EvgenyFeldman с ним уже пару месяцев такое. н...  False   \n",
              "3  @elenabodya заебись, люблю @elenabodya ,  сэко...   True   \n",
              "4  лазила по ВК и наткнулась на девочку с ником \"...   True   \n",
              "\n",
              "                                          clear_text  \\\n",
              "0  нормальный парень никогда не станет унижать бы...   \n",
              "1         нихачу в универ обратно хочу быть эльфиком   \n",
              "2   с ним уже пару месяцев такое не обращай внимание   \n",
              "3                заебись люблю сэкономил к на куртке   \n",
              "4  лазила по вк и наткнулась на девочку с ником к...   \n",
              "\n",
              "                                           lemm_text  \n",
              "0  нормальный   парень   никогда   не   становить...  \n",
              "1  нихач   в   универ   обратно   хотеть   быть  ...  \n",
              "2  с   он   уже   пара   месяц   такой   не   обр...  \n",
              "3    заебись   любить   сэкономить   к   на   куртка  \n",
              "4  лазить   по   вк   и   наткнуться   на   девоч...  "
            ],
            "text/html": [
              "\n",
              "  <div id=\"df-d0d27b75-7653-445b-b926-7599f683d1d7\">\n",
              "    <div class=\"colab-df-container\">\n",
              "      <div>\n",
              "<style scoped>\n",
              "    .dataframe tbody tr th:only-of-type {\n",
              "        vertical-align: middle;\n",
              "    }\n",
              "\n",
              "    .dataframe tbody tr th {\n",
              "        vertical-align: top;\n",
              "    }\n",
              "\n",
              "    .dataframe thead th {\n",
              "        text-align: right;\n",
              "    }\n",
              "</style>\n",
              "<table border=\"1\" class=\"dataframe\">\n",
              "  <thead>\n",
              "    <tr style=\"text-align: right;\">\n",
              "      <th></th>\n",
              "      <th>text</th>\n",
              "      <th>toxic</th>\n",
              "      <th>clear_text</th>\n",
              "      <th>lemm_text</th>\n",
              "    </tr>\n",
              "  </thead>\n",
              "  <tbody>\n",
              "    <tr>\n",
              "      <th>0</th>\n",
              "      <td>Нормальный парень никогда не станет унижать бы...</td>\n",
              "      <td>True</td>\n",
              "      <td>нормальный парень никогда не станет унижать бы...</td>\n",
              "      <td>нормальный   парень   никогда   не   становить...</td>\n",
              "    </tr>\n",
              "    <tr>\n",
              "      <th>1</th>\n",
              "      <td>нихачу в универ обратно, хочу быть эльфиком(</td>\n",
              "      <td>False</td>\n",
              "      <td>нихачу в универ обратно хочу быть эльфиком</td>\n",
              "      <td>нихач   в   универ   обратно   хотеть   быть  ...</td>\n",
              "    </tr>\n",
              "    <tr>\n",
              "      <th>2</th>\n",
              "      <td>@EvgenyFeldman с ним уже пару месяцев такое. н...</td>\n",
              "      <td>False</td>\n",
              "      <td>с ним уже пару месяцев такое не обращай внимание</td>\n",
              "      <td>с   он   уже   пара   месяц   такой   не   обр...</td>\n",
              "    </tr>\n",
              "    <tr>\n",
              "      <th>3</th>\n",
              "      <td>@elenabodya заебись, люблю @elenabodya ,  сэко...</td>\n",
              "      <td>True</td>\n",
              "      <td>заебись люблю сэкономил к на куртке</td>\n",
              "      <td>заебись   любить   сэкономить   к   на   куртка</td>\n",
              "    </tr>\n",
              "    <tr>\n",
              "      <th>4</th>\n",
              "      <td>лазила по ВК и наткнулась на девочку с ником \"...</td>\n",
              "      <td>True</td>\n",
              "      <td>лазила по вк и наткнулась на девочку с ником к...</td>\n",
              "      <td>лазить   по   вк   и   наткнуться   на   девоч...</td>\n",
              "    </tr>\n",
              "  </tbody>\n",
              "</table>\n",
              "</div>\n",
              "      <button class=\"colab-df-convert\" onclick=\"convertToInteractive('df-d0d27b75-7653-445b-b926-7599f683d1d7')\"\n",
              "              title=\"Convert this dataframe to an interactive table.\"\n",
              "              style=\"display:none;\">\n",
              "        \n",
              "  <svg xmlns=\"http://www.w3.org/2000/svg\" height=\"24px\"viewBox=\"0 0 24 24\"\n",
              "       width=\"24px\">\n",
              "    <path d=\"M0 0h24v24H0V0z\" fill=\"none\"/>\n",
              "    <path d=\"M18.56 5.44l.94 2.06.94-2.06 2.06-.94-2.06-.94-.94-2.06-.94 2.06-2.06.94zm-11 1L8.5 8.5l.94-2.06 2.06-.94-2.06-.94L8.5 2.5l-.94 2.06-2.06.94zm10 10l.94 2.06.94-2.06 2.06-.94-2.06-.94-.94-2.06-.94 2.06-2.06.94z\"/><path d=\"M17.41 7.96l-1.37-1.37c-.4-.4-.92-.59-1.43-.59-.52 0-1.04.2-1.43.59L10.3 9.45l-7.72 7.72c-.78.78-.78 2.05 0 2.83L4 21.41c.39.39.9.59 1.41.59.51 0 1.02-.2 1.41-.59l7.78-7.78 2.81-2.81c.8-.78.8-2.07 0-2.86zM5.41 20L4 18.59l7.72-7.72 1.47 1.35L5.41 20z\"/>\n",
              "  </svg>\n",
              "      </button>\n",
              "      \n",
              "  <style>\n",
              "    .colab-df-container {\n",
              "      display:flex;\n",
              "      flex-wrap:wrap;\n",
              "      gap: 12px;\n",
              "    }\n",
              "\n",
              "    .colab-df-convert {\n",
              "      background-color: #E8F0FE;\n",
              "      border: none;\n",
              "      border-radius: 50%;\n",
              "      cursor: pointer;\n",
              "      display: none;\n",
              "      fill: #1967D2;\n",
              "      height: 32px;\n",
              "      padding: 0 0 0 0;\n",
              "      width: 32px;\n",
              "    }\n",
              "\n",
              "    .colab-df-convert:hover {\n",
              "      background-color: #E2EBFA;\n",
              "      box-shadow: 0px 1px 2px rgba(60, 64, 67, 0.3), 0px 1px 3px 1px rgba(60, 64, 67, 0.15);\n",
              "      fill: #174EA6;\n",
              "    }\n",
              "\n",
              "    [theme=dark] .colab-df-convert {\n",
              "      background-color: #3B4455;\n",
              "      fill: #D2E3FC;\n",
              "    }\n",
              "\n",
              "    [theme=dark] .colab-df-convert:hover {\n",
              "      background-color: #434B5C;\n",
              "      box-shadow: 0px 1px 3px 1px rgba(0, 0, 0, 0.15);\n",
              "      filter: drop-shadow(0px 1px 2px rgba(0, 0, 0, 0.3));\n",
              "      fill: #FFFFFF;\n",
              "    }\n",
              "  </style>\n",
              "\n",
              "      <script>\n",
              "        const buttonEl =\n",
              "          document.querySelector('#df-d0d27b75-7653-445b-b926-7599f683d1d7 button.colab-df-convert');\n",
              "        buttonEl.style.display =\n",
              "          google.colab.kernel.accessAllowed ? 'block' : 'none';\n",
              "\n",
              "        async function convertToInteractive(key) {\n",
              "          const element = document.querySelector('#df-d0d27b75-7653-445b-b926-7599f683d1d7');\n",
              "          const dataTable =\n",
              "            await google.colab.kernel.invokeFunction('convertToInteractive',\n",
              "                                                     [key], {});\n",
              "          if (!dataTable) return;\n",
              "\n",
              "          const docLinkHtml = 'Like what you see? Visit the ' +\n",
              "            '<a target=\"_blank\" href=https://colab.research.google.com/notebooks/data_table.ipynb>data table notebook</a>'\n",
              "            + ' to learn more about interactive tables.';\n",
              "          element.innerHTML = '';\n",
              "          dataTable['output_type'] = 'display_data';\n",
              "          await google.colab.output.renderOutput(dataTable, element);\n",
              "          const docLink = document.createElement('div');\n",
              "          docLink.innerHTML = docLinkHtml;\n",
              "          element.appendChild(docLink);\n",
              "        }\n",
              "      </script>\n",
              "    </div>\n",
              "  </div>\n",
              "  "
            ]
          },
          "metadata": {},
          "execution_count": 32
        }
      ]
    },
    {
      "cell_type": "code",
      "source": [
        "nltk.download('stopwords')\n",
        "stopwords = stopwords.words(\"russian\")"
      ],
      "metadata": {
        "id": "rd-gzLAFcyML",
        "colab": {
          "base_uri": "https://localhost:8080/"
        },
        "outputId": "e3df5ae9-a8a0-4024-abc6-3870ea866de7"
      },
      "execution_count": 33,
      "outputs": [
        {
          "output_type": "stream",
          "name": "stderr",
          "text": [
            "[nltk_data] Downloading package stopwords to /root/nltk_data...\n",
            "[nltk_data]   Package stopwords is already up-to-date!\n"
          ]
        }
      ]
    },
    {
      "cell_type": "code",
      "source": [
        "x_train, x_test, y_train, y_test = train_test_split(data['lemm_text'], data['toxic'], train_size=0.8, random_state=67)"
      ],
      "metadata": {
        "id": "yvN2OtUuNwfK"
      },
      "execution_count": 34,
      "outputs": []
    },
    {
      "cell_type": "code",
      "source": [
        "train_corpus = x_train.values.astype('U')\n",
        "test_corpus = x_test.values.astype('U')"
      ],
      "metadata": {
        "id": "0qfdWXGMOHTk"
      },
      "execution_count": 35,
      "outputs": []
    },
    {
      "cell_type": "code",
      "source": [
        "count_tf_idf = TfidfVectorizer(stop_words=stopwords)"
      ],
      "metadata": {
        "id": "FzbLBZ10WVlm"
      },
      "execution_count": 36,
      "outputs": []
    },
    {
      "cell_type": "code",
      "source": [
        "train_tf_idf = count_tf_idf.fit_transform(train_corpus)\n",
        "test_tf_idf = count_tf_idf.transform(test_corpus)"
      ],
      "metadata": {
        "id": "jppQRX8wWVn9"
      },
      "execution_count": 37,
      "outputs": []
    },
    {
      "cell_type": "code",
      "source": [
        "train_tf_idf.shape, test_tf_idf.shape"
      ],
      "metadata": {
        "id": "GDOpaA-8OkK2",
        "colab": {
          "base_uri": "https://localhost:8080/"
        },
        "outputId": "df9f7c4f-14ab-4f97-cf2c-bfe3763dcd5e"
      },
      "execution_count": 38,
      "outputs": [
        {
          "output_type": "execute_result",
          "data": {
            "text/plain": [
              "((173106, 81336), (43277, 81336))"
            ]
          },
          "metadata": {},
          "execution_count": 38
        }
      ]
    },
    {
      "cell_type": "code",
      "source": [
        "model = LogisticRegression(max_iter=10000, random_state=67)"
      ],
      "metadata": {
        "id": "ugPiwJGnWVqb"
      },
      "execution_count": 39,
      "outputs": []
    },
    {
      "cell_type": "code",
      "source": [
        "scores = cross_val_score(model, train_tf_idf, y_train, cv=5, scoring='roc_auc')\n",
        "print(scores)\n",
        "print('avg auc-roc:', sum(scores) / len(scores))"
      ],
      "metadata": {
        "id": "X08yBfiYzVD6",
        "colab": {
          "base_uri": "https://localhost:8080/"
        },
        "outputId": "4bcaa34f-eeac-4399-e784-ed0d0300521a"
      },
      "execution_count": 40,
      "outputs": [
        {
          "output_type": "stream",
          "name": "stdout",
          "text": [
            "[0.78396184 0.78755216 0.78646815 0.78502709 0.78641283]\n",
            "avg auc-roc: 0.7858844132232634\n"
          ]
        }
      ]
    },
    {
      "cell_type": "markdown",
      "source": [
        "Подберем гиперпараметры."
      ],
      "metadata": {
        "id": "HaeZc2p_9x2W"
      }
    },
    {
      "cell_type": "code",
      "source": [
        "log_reg_params = {\n",
        "    'C': [10 ** -2, 10 ** -1, 1, 10, 10 ** 2], \n",
        "    'solver' : ['lbfgs', 'liblinear']\n",
        "    }"
      ],
      "metadata": {
        "id": "IoiQNTr2HkgD"
      },
      "execution_count": 41,
      "outputs": []
    },
    {
      "cell_type": "code",
      "source": [
        "clf = GridSearchCV(model, log_reg_params, scoring='roc_auc')\n",
        "clf.fit(train_tf_idf, y_train)\n",
        "clf.best_params_"
      ],
      "metadata": {
        "id": "XlpqfuHNJQyC",
        "colab": {
          "base_uri": "https://localhost:8080/"
        },
        "outputId": "3e71bc16-c61d-4b2d-c9a7-7df012aedea2"
      },
      "execution_count": 42,
      "outputs": [
        {
          "output_type": "execute_result",
          "data": {
            "text/plain": [
              "{'C': 1, 'solver': 'lbfgs'}"
            ]
          },
          "metadata": {},
          "execution_count": 42
        }
      ]
    },
    {
      "cell_type": "code",
      "source": [
        "model = clf.best_estimator_\n",
        "model.fit(train_tf_idf, y_train)"
      ],
      "metadata": {
        "id": "ZgW2YhC7Opm7",
        "colab": {
          "base_uri": "https://localhost:8080/"
        },
        "outputId": "2c5a65d5-b938-4912-ce07-f9142e146f3e"
      },
      "execution_count": 43,
      "outputs": [
        {
          "output_type": "execute_result",
          "data": {
            "text/plain": [
              "LogisticRegression(C=1, max_iter=10000, random_state=67)"
            ]
          },
          "metadata": {},
          "execution_count": 43
        }
      ]
    },
    {
      "cell_type": "markdown",
      "source": [
        "Напишем фунцию для удобного построения графика AUC-ROC."
      ],
      "metadata": {
        "id": "q9e3Qesyirqt"
      }
    },
    {
      "cell_type": "code",
      "source": [
        "def display_auc_roc(model, x, y):\n",
        "  probs = model.predict_proba(x)\n",
        "  preds = probs[:,1]\n",
        "  fpr, tpr, threshold = roc_curve(y, preds)\n",
        "  roc_auc = auc(fpr, tpr)\n",
        "\n",
        "  plt.title('ROC')\n",
        "  plt.plot(fpr, tpr, 'b', label = 'AUC = %0.2f' % roc_auc)\n",
        "  plt.legend(loc = 'lower right')\n",
        "  plt.plot([0, 1], [0, 1],'r--')\n",
        "  plt.xlim([0, 1])\n",
        "  plt.ylim([0, 1])\n",
        "  plt.ylabel('True Positive Rate')\n",
        "  plt.xlabel('False Positive Rate')\n",
        "  plt.show()"
      ],
      "metadata": {
        "id": "8gR53g-Tp4j-"
      },
      "execution_count": 44,
      "outputs": []
    },
    {
      "cell_type": "code",
      "source": [
        "display_auc_roc(model, test_tf_idf, y_test)"
      ],
      "metadata": {
        "id": "5afZidI410Wc",
        "colab": {
          "base_uri": "https://localhost:8080/",
          "height": 301
        },
        "outputId": "43455c45-d8ec-4cf5-8bf7-c170f9976c98"
      },
      "execution_count": 45,
      "outputs": [
        {
          "output_type": "display_data",
          "data": {
            "text/plain": [
              "<Figure size 432x288 with 1 Axes>"
            ],
            "image/png": "[encoded data removed]"
          },
          "metadata": {}
        }
      ]
    },
    {
      "cell_type": "markdown",
      "source": [
        "Первый подход показал хороший результат. Приступим ко второму."
      ],
      "metadata": {
        "id": "6YcL7Grg97lJ"
      }
    },
    {
      "cell_type": "markdown",
      "source": [
        "# **ruBERT**"
      ],
      "metadata": {
        "id": "QCDu6H2lVOhy"
      }
    },
    {
      "cell_type": "markdown",
      "source": [
        "Сохраним обработанный датасет и сгенерируем эмбеддинги в файле \n",
        "```embeddings_generation.ipynb```\n",
        "\n",
        "\n"
      ],
      "metadata": {
        "id": "jC5r87tAPE0k"
      }
    },
    {
      "cell_type": "code",
      "source": [
        "data.to_csv('prepared_data.csv', index=False)"
      ],
      "metadata": {
        "id": "GbWMc1MD86Dd"
      },
      "execution_count": 46,
      "outputs": []
    },
    {
      "cell_type": "markdown",
      "source": [
        "Эмбеддинги были сгенерированы по батчам. Загрузим их."
      ],
      "metadata": {
        "id": "T8qjgi_MUzqg"
      }
    },
    {
      "cell_type": "code",
      "source": [
        "emb_0 = pd.read_csv('/content/drive/MyDrive/sentiment_analysis/emb_0.csv')\n",
        "emb_1 = pd.read_csv('/content/drive/MyDrive/sentiment_analysis/emb_1.csv')\n",
        "emb_2 = pd.read_csv('/content/drive/MyDrive/sentiment_analysis/emb_2.csv')\n",
        "emb_3 = pd.read_csv('/content/drive/MyDrive/sentiment_analysis/emb_3.csv')\n",
        "emb_4 = pd.read_csv('/content/drive/MyDrive/sentiment_analysis/emb_4.csv')\n",
        "emb_5 = pd.read_csv('/content/drive/MyDrive/sentiment_analysis/emb_5.csv')"
      ],
      "metadata": {
        "id": "deNNjShxfQn7"
      },
      "execution_count": 47,
      "outputs": []
    },
    {
      "cell_type": "markdown",
      "source": [
        "Соеденим все эмбеддинги."
      ],
      "metadata": {
        "id": "nRTRyHSIfnWw"
      }
    },
    {
      "cell_type": "code",
      "source": [
        "embeddings = [emb_0, emb_1, emb_2, emb_3, emb_4, emb_5]"
      ],
      "metadata": {
        "id": "sgi0KJ-nh0C5"
      },
      "execution_count": 48,
      "outputs": []
    },
    {
      "cell_type": "code",
      "source": [
        "embeddings = np.vstack(embeddings)"
      ],
      "metadata": {
        "id": "gVMnWpiEzCc4"
      },
      "execution_count": 49,
      "outputs": []
    },
    {
      "cell_type": "markdown",
      "source": [
        "Отделим таргет."
      ],
      "metadata": {
        "id": "KQgcH4-8f0RW"
      }
    },
    {
      "cell_type": "code",
      "source": [
        "features = embeddings[:, :-1]\n",
        "target = embeddings[:, -1].astype(bool)"
      ],
      "metadata": {
        "id": "raywrwoWcS8J"
      },
      "execution_count": 50,
      "outputs": []
    },
    {
      "cell_type": "code",
      "source": [
        "x_train, x_test, y_train, y_test = train_test_split(features, target, train_size=0.8, random_state=67)"
      ],
      "metadata": {
        "id": "afjScewBcNID"
      },
      "execution_count": 51,
      "outputs": []
    },
    {
      "cell_type": "code",
      "source": [
        "model = LogisticRegression(max_iter=10000, random_state=67)"
      ],
      "metadata": {
        "id": "DzpL0UdbIyUm"
      },
      "execution_count": 52,
      "outputs": []
    },
    {
      "cell_type": "code",
      "source": [
        "scores = cross_val_score(model, x_train, y_train, cv=5, scoring='roc_auc')\n",
        "print(scores)\n",
        "print('avg auc-roc:', sum(scores) / len(scores))"
      ],
      "metadata": {
        "id": "yimEp2RekPoD",
        "colab": {
          "base_uri": "https://localhost:8080/"
        },
        "outputId": "6813238c-60c7-40b3-d02d-4af4dc7c00ff"
      },
      "execution_count": 53,
      "outputs": [
        {
          "output_type": "stream",
          "name": "stdout",
          "text": [
            "[0.74141079 0.738545   0.73568163 0.74604227 0.73898087]\n",
            "avg auc-roc: 0.7401321100598595\n"
          ]
        }
      ]
    },
    {
      "cell_type": "markdown",
      "source": [
        "Подберем гиперпараметры."
      ],
      "metadata": {
        "id": "sg-jdkFg7Kd_"
      }
    },
    {
      "cell_type": "code",
      "source": [
        "clf = GridSearchCV(model, log_reg_params, scoring='roc_auc')\n",
        "clf.fit(x_train, y_train)\n",
        "clf.best_params_"
      ],
      "metadata": {
        "id": "ZJcXSTY7kSVL",
        "colab": {
          "base_uri": "https://localhost:8080/"
        },
        "outputId": "cd0a32a9-a3da-4308-c6e6-5e5be9704bda"
      },
      "execution_count": 54,
      "outputs": [
        {
          "output_type": "execute_result",
          "data": {
            "text/plain": [
              "{'C': 0.1, 'solver': 'liblinear'}"
            ]
          },
          "metadata": {},
          "execution_count": 54
        }
      ]
    },
    {
      "cell_type": "code",
      "source": [
        "model = clf.best_estimator_\n",
        "model.fit(x_train, y_train)"
      ],
      "metadata": {
        "id": "2jgZId1PklP4",
        "colab": {
          "base_uri": "https://localhost:8080/"
        },
        "outputId": "ec197512-47fe-411c-c6d7-93169b5b6738"
      },
      "execution_count": 55,
      "outputs": [
        {
          "output_type": "execute_result",
          "data": {
            "text/plain": [
              "LogisticRegression(C=0.1, max_iter=10000, random_state=67, solver='liblinear')"
            ]
          },
          "metadata": {},
          "execution_count": 55
        }
      ]
    },
    {
      "cell_type": "code",
      "source": [
        "display_auc_roc(model, x_test, y_test)"
      ],
      "metadata": {
        "id": "x_u83g4sklsG",
        "colab": {
          "base_uri": "https://localhost:8080/",
          "height": 301
        },
        "outputId": "3b5102b4-da1d-4794-b566-cea1cf9e5b0f"
      },
      "execution_count": 56,
      "outputs": [
        {
          "output_type": "display_data",
          "data": {
            "text/plain": [
              "<Figure size 432x288 with 1 Axes>"
            ],
            "image/png": "[encoded data removed]"
          },
          "metadata": {}
        }
      ]
    },
    {
      "cell_type": "markdown",
      "source": [
        "Результат неплохой, но TF-IDF справился лучше."
      ],
      "metadata": {
        "id": "E_-udvPa7Wtu"
      }
    },
    {
      "cell_type": "markdown",
      "source": [
        "# **Results**"
      ],
      "metadata": {
        "id": "oxU9zHIf4IuO"
      }
    },
    {
      "cell_type": "markdown",
      "source": [
        "**В данном проекте было протестировано два различных подхода и TF-IDF показал себя лучше, как с точки зрения результата, так и с точки зрения времени выполнения. Удалось достичь 0.79 по метрике AUC-ROC.**"
      ],
      "metadata": {
        "id": "iZc3OS0v7PLy"
      }
    }
  ]
}